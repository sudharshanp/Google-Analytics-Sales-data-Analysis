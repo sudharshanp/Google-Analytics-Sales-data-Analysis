{
 "cells": [
  {
   "cell_type": "markdown",
   "metadata": {},
   "source": [
    "# Google Analytics Sales data Analysis"
   ]
  },
  {
   "cell_type": "markdown",
   "metadata": {},
   "source": [
    "### Importing libraries and dataset"
   ]
  },
  {
   "cell_type": "code",
   "execution_count": 1,
   "metadata": {},
   "outputs": [],
   "source": [
    "import pandas as pd\n",
    "import matplotlib\n",
    "import matplotlib.pyplot as plt\n",
    "import seaborn as sns"
   ]
  },
  {
   "cell_type": "code",
   "execution_count": 2,
   "metadata": {},
   "outputs": [],
   "source": [
    "dfmc = pd.read_csv('google-analytics-public-analyst-case-study_-_marketing_channel_timeseries.csv')\n",
    "dfpd = pd.read_csv('google-analytics-public-analyst-case-study_-_pageview_data_bookers.csv')"
   ]
  },
  {
   "cell_type": "markdown",
   "metadata": {},
   "source": [
    "### marketing_channel_timeseries data description and cleaning"
   ]
  },
  {
   "cell_type": "code",
   "execution_count": 3,
   "metadata": {},
   "outputs": [
    {
     "data": {
      "text/html": [
       "<div>\n",
       "<style scoped>\n",
       "    .dataframe tbody tr th:only-of-type {\n",
       "        vertical-align: middle;\n",
       "    }\n",
       "\n",
       "    .dataframe tbody tr th {\n",
       "        vertical-align: top;\n",
       "    }\n",
       "\n",
       "    .dataframe thead th {\n",
       "        text-align: right;\n",
       "    }\n",
       "</style>\n",
       "<table border=\"1\" class=\"dataframe\">\n",
       "  <thead>\n",
       "    <tr style=\"text-align: right;\">\n",
       "      <th></th>\n",
       "      <th>date_week</th>\n",
       "      <th>isMobile</th>\n",
       "      <th>source</th>\n",
       "      <th>medium</th>\n",
       "      <th>referralPath</th>\n",
       "      <th>region</th>\n",
       "      <th>visits</th>\n",
       "      <th>bounces</th>\n",
       "      <th>transactions</th>\n",
       "      <th>totalTransactionRevenue</th>\n",
       "    </tr>\n",
       "  </thead>\n",
       "  <tbody>\n",
       "    <tr>\n",
       "      <th>0</th>\n",
       "      <td>25/06/2017</td>\n",
       "      <td>False</td>\n",
       "      <td>google</td>\n",
       "      <td>organic</td>\n",
       "      <td>NaN</td>\n",
       "      <td>California</td>\n",
       "      <td>24</td>\n",
       "      <td>4</td>\n",
       "      <td>1</td>\n",
       "      <td>15990000</td>\n",
       "    </tr>\n",
       "    <tr>\n",
       "      <th>1</th>\n",
       "      <td>25/06/2017</td>\n",
       "      <td>True</td>\n",
       "      <td>google</td>\n",
       "      <td>organic</td>\n",
       "      <td>NaN</td>\n",
       "      <td>California</td>\n",
       "      <td>37</td>\n",
       "      <td>15</td>\n",
       "      <td>0</td>\n",
       "      <td>0</td>\n",
       "    </tr>\n",
       "    <tr>\n",
       "      <th>2</th>\n",
       "      <td>25/06/2017</td>\n",
       "      <td>True</td>\n",
       "      <td>google</td>\n",
       "      <td>organic</td>\n",
       "      <td>NaN</td>\n",
       "      <td>Texas</td>\n",
       "      <td>12</td>\n",
       "      <td>6</td>\n",
       "      <td>0</td>\n",
       "      <td>0</td>\n",
       "    </tr>\n",
       "    <tr>\n",
       "      <th>3</th>\n",
       "      <td>25/06/2017</td>\n",
       "      <td>False</td>\n",
       "      <td>google</td>\n",
       "      <td>organic</td>\n",
       "      <td>NaN</td>\n",
       "      <td>New York</td>\n",
       "      <td>9</td>\n",
       "      <td>2</td>\n",
       "      <td>0</td>\n",
       "      <td>0</td>\n",
       "    </tr>\n",
       "    <tr>\n",
       "      <th>4</th>\n",
       "      <td>25/06/2017</td>\n",
       "      <td>False</td>\n",
       "      <td>(direct)</td>\n",
       "      <td>(none)</td>\n",
       "      <td>NaN</td>\n",
       "      <td>not available in demo dataset</td>\n",
       "      <td>32</td>\n",
       "      <td>10</td>\n",
       "      <td>0</td>\n",
       "      <td>0</td>\n",
       "    </tr>\n",
       "  </tbody>\n",
       "</table>\n",
       "</div>"
      ],
      "text/plain": [
       "    date_week  isMobile    source   medium referralPath  \\\n",
       "0  25/06/2017     False    google  organic          NaN   \n",
       "1  25/06/2017      True    google  organic          NaN   \n",
       "2  25/06/2017      True    google  organic          NaN   \n",
       "3  25/06/2017     False    google  organic          NaN   \n",
       "4  25/06/2017     False  (direct)   (none)          NaN   \n",
       "\n",
       "                          region  visits  bounces  transactions  \\\n",
       "0                     California      24        4             1   \n",
       "1                     California      37       15             0   \n",
       "2                          Texas      12        6             0   \n",
       "3                       New York       9        2             0   \n",
       "4  not available in demo dataset      32       10             0   \n",
       "\n",
       "   totalTransactionRevenue  \n",
       "0                 15990000  \n",
       "1                        0  \n",
       "2                        0  \n",
       "3                        0  \n",
       "4                        0  "
      ]
     },
     "execution_count": 3,
     "metadata": {},
     "output_type": "execute_result"
    }
   ],
   "source": [
    "dfmc.head()"
   ]
  },
  {
   "cell_type": "code",
   "execution_count": 4,
   "metadata": {},
   "outputs": [
    {
     "name": "stdout",
     "output_type": "stream",
     "text": [
      "<class 'pandas.core.frame.DataFrame'>\n",
      "RangeIndex: 1737 entries, 0 to 1736\n",
      "Data columns (total 10 columns):\n",
      " #   Column                   Non-Null Count  Dtype \n",
      "---  ------                   --------------  ----- \n",
      " 0   date_week                1737 non-null   object\n",
      " 1   isMobile                 1737 non-null   bool  \n",
      " 2   source                   1737 non-null   object\n",
      " 3   medium                   1737 non-null   object\n",
      " 4   referralPath             1014 non-null   object\n",
      " 5   region                   1737 non-null   object\n",
      " 6   visits                   1737 non-null   int64 \n",
      " 7   bounces                  1737 non-null   int64 \n",
      " 8   transactions             1737 non-null   int64 \n",
      " 9   totalTransactionRevenue  1737 non-null   int64 \n",
      "dtypes: bool(1), int64(4), object(5)\n",
      "memory usage: 124.0+ KB\n"
     ]
    }
   ],
   "source": [
    "dfmc.info()"
   ]
  },
  {
   "cell_type": "code",
   "execution_count": 5,
   "metadata": {},
   "outputs": [
    {
     "data": {
      "text/plain": [
       "referral     871\n",
       "(none)       328\n",
       "organic      266\n",
       "cpc          120\n",
       "cpm           88\n",
       "affiliate     63\n",
       "(not set)      1\n",
       "Name: medium, dtype: int64"
      ]
     },
     "execution_count": 5,
     "metadata": {},
     "output_type": "execute_result"
    }
   ],
   "source": [
    "dfmc.medium.value_counts()"
   ]
  },
  {
   "cell_type": "markdown",
   "metadata": {},
   "source": [
    "- We have only one (not set) values in medium and i will be changing it to (none) as it affects bounce rate calculation"
   ]
  },
  {
   "cell_type": "code",
   "execution_count": 6,
   "metadata": {},
   "outputs": [],
   "source": [
    "dfmc.medium.replace('(not set)', '(none)',inplace= True)"
   ]
  },
  {
   "cell_type": "markdown",
   "metadata": {},
   "source": [
    "- Dealing with missing values in referral by replacing them with Unknown values"
   ]
  },
  {
   "cell_type": "code",
   "execution_count": 7,
   "metadata": {},
   "outputs": [
    {
     "data": {
      "text/plain": [
       "0        NaN\n",
       "1        NaN\n",
       "2        NaN\n",
       "3        NaN\n",
       "4        NaN\n",
       "5        NaN\n",
       "6        NaN\n",
       "7        NaN\n",
       "8          /\n",
       "9    /gopher\n",
       "Name: referralPath, dtype: object"
      ]
     },
     "execution_count": 7,
     "metadata": {},
     "output_type": "execute_result"
    }
   ],
   "source": [
    "dfmc.referralPath.head(10)"
   ]
  },
  {
   "cell_type": "code",
   "execution_count": 8,
   "metadata": {},
   "outputs": [],
   "source": [
    "dfmc.referralPath.fillna('Unknown', inplace= True)\n",
    "dfmc.referralPath.replace('/', 'Unknown',inplace= True)"
   ]
  },
  {
   "cell_type": "markdown",
   "metadata": {},
   "source": [
    "- Here we will be replacing 'not available in demo dataset' and '(not set)' values of region to Unknown for uniformity."
   ]
  },
  {
   "cell_type": "code",
   "execution_count": 9,
   "metadata": {},
   "outputs": [],
   "source": [
    "dfmc.region.replace('not available in demo dataset', 'Unknown',inplace=True)\n",
    "dfmc.region.replace('(not set)', 'Unknown',inplace=True)"
   ]
  },
  {
   "cell_type": "markdown",
   "metadata": {},
   "source": [
    "- Total transaction revenue is expressed as the value passed to Analytics multiplied by 10^6 so dividing it by 10^6 to bring it back to normal values"
   ]
  },
  {
   "cell_type": "code",
   "execution_count": 10,
   "metadata": {},
   "outputs": [],
   "source": [
    "dfmc['transactionRevenue'] = dfmc.totalTransactionRevenue / 1000000\n",
    "dfmc = dfmc.drop(['totalTransactionRevenue'],axis=1)"
   ]
  },
  {
   "cell_type": "code",
   "execution_count": 11,
   "metadata": {},
   "outputs": [
    {
     "data": {
      "text/html": [
       "<div>\n",
       "<style scoped>\n",
       "    .dataframe tbody tr th:only-of-type {\n",
       "        vertical-align: middle;\n",
       "    }\n",
       "\n",
       "    .dataframe tbody tr th {\n",
       "        vertical-align: top;\n",
       "    }\n",
       "\n",
       "    .dataframe thead th {\n",
       "        text-align: right;\n",
       "    }\n",
       "</style>\n",
       "<table border=\"1\" class=\"dataframe\">\n",
       "  <thead>\n",
       "    <tr style=\"text-align: right;\">\n",
       "      <th></th>\n",
       "      <th>date_week</th>\n",
       "      <th>isMobile</th>\n",
       "      <th>source</th>\n",
       "      <th>medium</th>\n",
       "      <th>referralPath</th>\n",
       "      <th>region</th>\n",
       "      <th>visits</th>\n",
       "      <th>bounces</th>\n",
       "      <th>transactions</th>\n",
       "      <th>transactionRevenue</th>\n",
       "    </tr>\n",
       "  </thead>\n",
       "  <tbody>\n",
       "    <tr>\n",
       "      <th>0</th>\n",
       "      <td>25/06/2017</td>\n",
       "      <td>False</td>\n",
       "      <td>google</td>\n",
       "      <td>organic</td>\n",
       "      <td>Unknown</td>\n",
       "      <td>California</td>\n",
       "      <td>24</td>\n",
       "      <td>4</td>\n",
       "      <td>1</td>\n",
       "      <td>15.99</td>\n",
       "    </tr>\n",
       "    <tr>\n",
       "      <th>1</th>\n",
       "      <td>25/06/2017</td>\n",
       "      <td>True</td>\n",
       "      <td>google</td>\n",
       "      <td>organic</td>\n",
       "      <td>Unknown</td>\n",
       "      <td>California</td>\n",
       "      <td>37</td>\n",
       "      <td>15</td>\n",
       "      <td>0</td>\n",
       "      <td>0.00</td>\n",
       "    </tr>\n",
       "    <tr>\n",
       "      <th>2</th>\n",
       "      <td>25/06/2017</td>\n",
       "      <td>True</td>\n",
       "      <td>google</td>\n",
       "      <td>organic</td>\n",
       "      <td>Unknown</td>\n",
       "      <td>Texas</td>\n",
       "      <td>12</td>\n",
       "      <td>6</td>\n",
       "      <td>0</td>\n",
       "      <td>0.00</td>\n",
       "    </tr>\n",
       "    <tr>\n",
       "      <th>3</th>\n",
       "      <td>25/06/2017</td>\n",
       "      <td>False</td>\n",
       "      <td>google</td>\n",
       "      <td>organic</td>\n",
       "      <td>Unknown</td>\n",
       "      <td>New York</td>\n",
       "      <td>9</td>\n",
       "      <td>2</td>\n",
       "      <td>0</td>\n",
       "      <td>0.00</td>\n",
       "    </tr>\n",
       "    <tr>\n",
       "      <th>4</th>\n",
       "      <td>25/06/2017</td>\n",
       "      <td>False</td>\n",
       "      <td>(direct)</td>\n",
       "      <td>(none)</td>\n",
       "      <td>Unknown</td>\n",
       "      <td>Unknown</td>\n",
       "      <td>32</td>\n",
       "      <td>10</td>\n",
       "      <td>0</td>\n",
       "      <td>0.00</td>\n",
       "    </tr>\n",
       "  </tbody>\n",
       "</table>\n",
       "</div>"
      ],
      "text/plain": [
       "    date_week  isMobile    source   medium referralPath      region  visits  \\\n",
       "0  25/06/2017     False    google  organic      Unknown  California      24   \n",
       "1  25/06/2017      True    google  organic      Unknown  California      37   \n",
       "2  25/06/2017      True    google  organic      Unknown       Texas      12   \n",
       "3  25/06/2017     False    google  organic      Unknown    New York       9   \n",
       "4  25/06/2017     False  (direct)   (none)      Unknown     Unknown      32   \n",
       "\n",
       "   bounces  transactions  transactionRevenue  \n",
       "0        4             1               15.99  \n",
       "1       15             0                0.00  \n",
       "2        6             0                0.00  \n",
       "3        2             0                0.00  \n",
       "4       10             0                0.00  "
      ]
     },
     "execution_count": 11,
     "metadata": {},
     "output_type": "execute_result"
    }
   ],
   "source": [
    "dfmc.head()"
   ]
  },
  {
   "cell_type": "markdown",
   "metadata": {},
   "source": [
    "### pageview_data_bookers data description and cleaning"
   ]
  },
  {
   "cell_type": "code",
   "execution_count": 12,
   "metadata": {},
   "outputs": [
    {
     "data": {
      "text/html": [
       "<div>\n",
       "<style scoped>\n",
       "    .dataframe tbody tr th:only-of-type {\n",
       "        vertical-align: middle;\n",
       "    }\n",
       "\n",
       "    .dataframe tbody tr th {\n",
       "        vertical-align: top;\n",
       "    }\n",
       "\n",
       "    .dataframe thead th {\n",
       "        text-align: right;\n",
       "    }\n",
       "</style>\n",
       "<table border=\"1\" class=\"dataframe\">\n",
       "  <thead>\n",
       "    <tr style=\"text-align: right;\">\n",
       "      <th></th>\n",
       "      <th>fullVisitorId</th>\n",
       "      <th>transactions</th>\n",
       "      <th>total_visitor_transactions</th>\n",
       "      <th>visitId</th>\n",
       "      <th>visitNumber</th>\n",
       "      <th>hitNumber</th>\n",
       "      <th>pagePath</th>\n",
       "    </tr>\n",
       "  </thead>\n",
       "  <tbody>\n",
       "    <tr>\n",
       "      <th>0</th>\n",
       "      <td>6.911330e+15</td>\n",
       "      <td>NaN</td>\n",
       "      <td>1</td>\n",
       "      <td>1500268117</td>\n",
       "      <td>1</td>\n",
       "      <td>1</td>\n",
       "      <td>/home</td>\n",
       "    </tr>\n",
       "    <tr>\n",
       "      <th>1</th>\n",
       "      <td>6.911330e+15</td>\n",
       "      <td>NaN</td>\n",
       "      <td>1</td>\n",
       "      <td>1500268117</td>\n",
       "      <td>1</td>\n",
       "      <td>2</td>\n",
       "      <td>/home</td>\n",
       "    </tr>\n",
       "    <tr>\n",
       "      <th>2</th>\n",
       "      <td>6.911330e+15</td>\n",
       "      <td>NaN</td>\n",
       "      <td>1</td>\n",
       "      <td>1500268117</td>\n",
       "      <td>1</td>\n",
       "      <td>3</td>\n",
       "      <td>/home</td>\n",
       "    </tr>\n",
       "    <tr>\n",
       "      <th>3</th>\n",
       "      <td>6.911330e+15</td>\n",
       "      <td>NaN</td>\n",
       "      <td>1</td>\n",
       "      <td>1500268117</td>\n",
       "      <td>1</td>\n",
       "      <td>4</td>\n",
       "      <td>/google+redesign/apparel/mens+outerwear/androi...</td>\n",
       "    </tr>\n",
       "    <tr>\n",
       "      <th>4</th>\n",
       "      <td>6.911330e+15</td>\n",
       "      <td>NaN</td>\n",
       "      <td>1</td>\n",
       "      <td>1500268117</td>\n",
       "      <td>1</td>\n",
       "      <td>5</td>\n",
       "      <td>/google+redesign/apparel/women+s+google+yoga+j...</td>\n",
       "    </tr>\n",
       "  </tbody>\n",
       "</table>\n",
       "</div>"
      ],
      "text/plain": [
       "   fullVisitorId  transactions  total_visitor_transactions     visitId  \\\n",
       "0   6.911330e+15           NaN                           1  1500268117   \n",
       "1   6.911330e+15           NaN                           1  1500268117   \n",
       "2   6.911330e+15           NaN                           1  1500268117   \n",
       "3   6.911330e+15           NaN                           1  1500268117   \n",
       "4   6.911330e+15           NaN                           1  1500268117   \n",
       "\n",
       "   visitNumber  hitNumber                                           pagePath  \n",
       "0            1          1                                              /home  \n",
       "1            1          2                                              /home  \n",
       "2            1          3                                              /home  \n",
       "3            1          4  /google+redesign/apparel/mens+outerwear/androi...  \n",
       "4            1          5  /google+redesign/apparel/women+s+google+yoga+j...  "
      ]
     },
     "execution_count": 12,
     "metadata": {},
     "output_type": "execute_result"
    }
   ],
   "source": [
    "dfpd.head()"
   ]
  },
  {
   "cell_type": "code",
   "execution_count": 13,
   "metadata": {},
   "outputs": [
    {
     "name": "stdout",
     "output_type": "stream",
     "text": [
      "<class 'pandas.core.frame.DataFrame'>\n",
      "RangeIndex: 36165 entries, 0 to 36164\n",
      "Data columns (total 7 columns):\n",
      " #   Column                      Non-Null Count  Dtype  \n",
      "---  ------                      --------------  -----  \n",
      " 0   fullVisitorId               36165 non-null  float64\n",
      " 1   transactions                25534 non-null  float64\n",
      " 2   total_visitor_transactions  36165 non-null  int64  \n",
      " 3   visitId                     36165 non-null  int64  \n",
      " 4   visitNumber                 36165 non-null  int64  \n",
      " 5   hitNumber                   36165 non-null  int64  \n",
      " 6   pagePath                    36165 non-null  object \n",
      "dtypes: float64(2), int64(4), object(1)\n",
      "memory usage: 1.9+ MB\n"
     ]
    }
   ],
   "source": [
    "dfpd.info()"
   ]
  },
  {
   "cell_type": "markdown",
   "metadata": {},
   "source": [
    "- Replacing all transactions with null values to 0 which indicates no transactions"
   ]
  },
  {
   "cell_type": "code",
   "execution_count": 14,
   "metadata": {},
   "outputs": [],
   "source": [
    "dfpd.transactions.fillna(0, inplace = True)"
   ]
  },
  {
   "cell_type": "markdown",
   "metadata": {},
   "source": [
    "### Which marketing source delivers the most bookings?"
   ]
  },
  {
   "cell_type": "code",
   "execution_count": 15,
   "metadata": {},
   "outputs": [
    {
     "data": {
      "text/plain": [
       "<matplotlib.axes._subplots.AxesSubplot at 0x2245ac141c0>"
      ]
     },
     "execution_count": 15,
     "metadata": {},
     "output_type": "execute_result"
    },
    {
     "data": {
      "image/png": "[encoded data removed]",
      "text/plain": [
       "<Figure size 864x432 with 1 Axes>"
      ]
     },
     "metadata": {
      "needs_background": "light"
     },
     "output_type": "display_data"
    }
   ],
   "source": [
    "plt.figure(figsize=(12,6))\n",
    "dfmc.groupby('medium')['transactions'].sum().plot.bar()"
   ]
  },
  {
   "cell_type": "markdown",
   "metadata": {},
   "source": [
    "- We have the highest number of transctions from (none) which is direct visits and organic being the next."
   ]
  },
  {
   "cell_type": "markdown",
   "metadata": {},
   "source": [
    "### How does bounce rate vary by marketing channel (source & medium)? Are the differences significant?"
   ]
  },
  {
   "cell_type": "markdown",
   "metadata": {},
   "source": [
    "- Bounce rate can be calculated as single-page sessions divided by all sessions or the percentage of all sessions on your site in which users viewed only a single page and triggered only a single request to the Analytics server. So i will be dividing the 'bounces' by 'visit' to obtain bounce rate."
   ]
  },
  {
   "cell_type": "code",
   "execution_count": 16,
   "metadata": {},
   "outputs": [],
   "source": [
    "# Calculating bounce rate into a new column\n",
    "dfmc['bounceRate'] = (dfmc.bounces/dfmc.visits)*100"
   ]
  },
  {
   "cell_type": "code",
   "execution_count": 17,
   "metadata": {},
   "outputs": [
    {
     "data": {
      "text/html": [
       "<div>\n",
       "<style scoped>\n",
       "    .dataframe tbody tr th:only-of-type {\n",
       "        vertical-align: middle;\n",
       "    }\n",
       "\n",
       "    .dataframe tbody tr th {\n",
       "        vertical-align: top;\n",
       "    }\n",
       "\n",
       "    .dataframe thead th {\n",
       "        text-align: right;\n",
       "    }\n",
       "</style>\n",
       "<table border=\"1\" class=\"dataframe\">\n",
       "  <thead>\n",
       "    <tr style=\"text-align: right;\">\n",
       "      <th></th>\n",
       "      <th>date_week</th>\n",
       "      <th>isMobile</th>\n",
       "      <th>source</th>\n",
       "      <th>medium</th>\n",
       "      <th>referralPath</th>\n",
       "      <th>region</th>\n",
       "      <th>visits</th>\n",
       "      <th>bounces</th>\n",
       "      <th>transactions</th>\n",
       "      <th>transactionRevenue</th>\n",
       "      <th>bounceRate</th>\n",
       "    </tr>\n",
       "  </thead>\n",
       "  <tbody>\n",
       "    <tr>\n",
       "      <th>0</th>\n",
       "      <td>25/06/2017</td>\n",
       "      <td>False</td>\n",
       "      <td>google</td>\n",
       "      <td>organic</td>\n",
       "      <td>Unknown</td>\n",
       "      <td>California</td>\n",
       "      <td>24</td>\n",
       "      <td>4</td>\n",
       "      <td>1</td>\n",
       "      <td>15.99</td>\n",
       "      <td>16.666667</td>\n",
       "    </tr>\n",
       "    <tr>\n",
       "      <th>1</th>\n",
       "      <td>25/06/2017</td>\n",
       "      <td>True</td>\n",
       "      <td>google</td>\n",
       "      <td>organic</td>\n",
       "      <td>Unknown</td>\n",
       "      <td>California</td>\n",
       "      <td>37</td>\n",
       "      <td>15</td>\n",
       "      <td>0</td>\n",
       "      <td>0.00</td>\n",
       "      <td>40.540541</td>\n",
       "    </tr>\n",
       "    <tr>\n",
       "      <th>2</th>\n",
       "      <td>25/06/2017</td>\n",
       "      <td>True</td>\n",
       "      <td>google</td>\n",
       "      <td>organic</td>\n",
       "      <td>Unknown</td>\n",
       "      <td>Texas</td>\n",
       "      <td>12</td>\n",
       "      <td>6</td>\n",
       "      <td>0</td>\n",
       "      <td>0.00</td>\n",
       "      <td>50.000000</td>\n",
       "    </tr>\n",
       "    <tr>\n",
       "      <th>3</th>\n",
       "      <td>25/06/2017</td>\n",
       "      <td>False</td>\n",
       "      <td>google</td>\n",
       "      <td>organic</td>\n",
       "      <td>Unknown</td>\n",
       "      <td>New York</td>\n",
       "      <td>9</td>\n",
       "      <td>2</td>\n",
       "      <td>0</td>\n",
       "      <td>0.00</td>\n",
       "      <td>22.222222</td>\n",
       "    </tr>\n",
       "    <tr>\n",
       "      <th>4</th>\n",
       "      <td>25/06/2017</td>\n",
       "      <td>False</td>\n",
       "      <td>(direct)</td>\n",
       "      <td>(none)</td>\n",
       "      <td>Unknown</td>\n",
       "      <td>Unknown</td>\n",
       "      <td>32</td>\n",
       "      <td>10</td>\n",
       "      <td>0</td>\n",
       "      <td>0.00</td>\n",
       "      <td>31.250000</td>\n",
       "    </tr>\n",
       "  </tbody>\n",
       "</table>\n",
       "</div>"
      ],
      "text/plain": [
       "    date_week  isMobile    source   medium referralPath      region  visits  \\\n",
       "0  25/06/2017     False    google  organic      Unknown  California      24   \n",
       "1  25/06/2017      True    google  organic      Unknown  California      37   \n",
       "2  25/06/2017      True    google  organic      Unknown       Texas      12   \n",
       "3  25/06/2017     False    google  organic      Unknown    New York       9   \n",
       "4  25/06/2017     False  (direct)   (none)      Unknown     Unknown      32   \n",
       "\n",
       "   bounces  transactions  transactionRevenue  bounceRate  \n",
       "0        4             1               15.99   16.666667  \n",
       "1       15             0                0.00   40.540541  \n",
       "2        6             0                0.00   50.000000  \n",
       "3        2             0                0.00   22.222222  \n",
       "4       10             0                0.00   31.250000  "
      ]
     },
     "execution_count": 17,
     "metadata": {},
     "output_type": "execute_result"
    }
   ],
   "source": [
    "dfmc.head()"
   ]
  },
  {
   "cell_type": "code",
   "execution_count": 18,
   "metadata": {},
   "outputs": [
    {
     "data": {
      "text/plain": [
       "medium\n",
       "(none)       38.536736\n",
       "affiliate    58.269009\n",
       "cpc          35.406382\n",
       "cpm          35.629208\n",
       "organic      38.636131\n",
       "referral     52.981571\n",
       "Name: bounceRate, dtype: float64"
      ]
     },
     "execution_count": 18,
     "metadata": {},
     "output_type": "execute_result"
    }
   ],
   "source": [
    "# bounce rate for different sources and mediums\n",
    "dfmc.groupby('medium')['bounceRate'].mean()"
   ]
  },
  {
   "cell_type": "markdown",
   "metadata": {},
   "source": [
    "- The bounce Rates vary from different marketing channels, while direct or (none), cpc and cpm and organic have similar bounce rates, affiliate marketing and referral have a higher bounce rates."
   ]
  },
  {
   "cell_type": "markdown",
   "metadata": {},
   "source": [
    "### Which factors most strongly influence conversion rate (transactions / visit)"
   ]
  },
  {
   "cell_type": "code",
   "execution_count": 19,
   "metadata": {},
   "outputs": [
    {
     "data": {
      "image/png": "[encoded data removed]",
      "text/plain": [
       "<Figure size 432x288 with 2 Axes>"
      ]
     },
     "metadata": {
      "needs_background": "light"
     },
     "output_type": "display_data"
    }
   ],
   "source": [
    "#Plotting correlation heat map\n",
    "sns.heatmap(dfmc.corr(), annot = True, fmt = \".2f\")\n",
    "plt.show()"
   ]
  },
  {
   "cell_type": "markdown",
   "metadata": {},
   "source": [
    "- From the correlation heat map we can see that number of visitis to the webpages has a significant impact on the number of transactions.\n",
    "- From question 1 plot we can say that source of traffic also has a lot of influence on conversion."
   ]
  },
  {
   "cell_type": "code",
   "execution_count": 20,
   "metadata": {
    "scrolled": false
   },
   "outputs": [
    {
     "data": {
      "text/plain": [
       "<matplotlib.axes._subplots.AxesSubplot at 0x2245b6d73d0>"
      ]
     },
     "execution_count": 20,
     "metadata": {},
     "output_type": "execute_result"
    },
    {
     "data": {
      "image/png": "[encoded data removed]",
      "text/plain": [
       "<Figure size 648x864 with 1 Axes>"
      ]
     },
     "metadata": {
      "needs_background": "light"
     },
     "output_type": "display_data"
    }
   ],
   "source": [
    "plt.figure(figsize=(9,12))\n",
    "dfmc.groupby('region')['transactions'].sum().plot.barh()"
   ]
  },
  {
   "cell_type": "markdown",
   "metadata": {},
   "source": [
    "- The purpose of the above graph is to check if there is any influence of region on conversion. While we have a lot of tranactions from California but we also have a lot of unknown regions and its difficult from the data we have to imply its significance.\n",
    "- As we have only two months of data its not much usefull to see if time period has any significance."
   ]
  },
  {
   "cell_type": "markdown",
   "metadata": {},
   "source": [
    "### How complex are the paths a user takes to make a booking?"
   ]
  },
  {
   "cell_type": "markdown",
   "metadata": {},
   "source": [
    "- Below we can see the most visited pages by the user."
   ]
  },
  {
   "cell_type": "code",
   "execution_count": 21,
   "metadata": {},
   "outputs": [
    {
     "data": {
      "text/plain": [
       "/basket.html                                                                          5213\n",
       "/home                                                                                 2326\n",
       "/payment.html                                                                         2136\n",
       "/ordercompleted.html                                                                  2086\n",
       "/signin.html                                                                          1910\n",
       "                                                                                      ... \n",
       "/google+redesign/nest/nest+usa/nest+cam+outdoor+security+camera+usa.axd                  1\n",
       "/google+redesign/apparel/men+s+t+shirts/android+infant+short+sleeve+tee+pewter.axd       1\n",
       "/google+redesign/electronics/accessories/google+flashlight.axd                           1\n",
       "/google+redesign/apparel/women+s+google+yoga+jacket+sm.axd                               1\n",
       "/google+redesign/office/writing/google+stylus+pen+w+led+light.axd                        1\n",
       "Name: pagePath, Length: 393, dtype: int64"
      ]
     },
     "execution_count": 21,
     "metadata": {},
     "output_type": "execute_result"
    }
   ],
   "source": [
    "dfpd.pagePath.value_counts()"
   ]
  },
  {
   "cell_type": "code",
   "execution_count": 22,
   "metadata": {},
   "outputs": [
    {
     "data": {
      "text/plain": [
       "fullVisitorId  visitId   \n",
       "6.911330e+15   1500268117     5\n",
       "               1500442011    19\n",
       "               1500919342     2\n",
       "1.029510e+16   1501029862     7\n",
       "               1501549997    35\n",
       "                             ..\n",
       "9.972640e+18   1501390392    17\n",
       "9.973670e+18   1500870192     1\n",
       "               1500930884     4\n",
       "               1500930921    32\n",
       "9.974350e+18   1500276722    40\n",
       "Name: pagePath, Length: 2440, dtype: int64"
      ]
     },
     "execution_count": 22,
     "metadata": {},
     "output_type": "execute_result"
    }
   ],
   "source": [
    "dfpd.groupby(['fullVisitorId', 'visitId'])['pagePath'].count()"
   ]
  },
  {
   "cell_type": "markdown",
   "metadata": {},
   "source": [
    "- Here we can see the overview of number of paths a user takes while making a booking.\n",
    "- Most of the users have multiple sessions and have visited multiple pages befor making a booking.\n",
    "- Using GCP it would be easier to analyze the paths the user takes and view the navigation summary."
   ]
  },
  {
   "cell_type": "markdown",
   "metadata": {},
   "source": [
    "### What appears to be the biggest opportunity to drive incremental bookings?"
   ]
  },
  {
   "cell_type": "code",
   "execution_count": 23,
   "metadata": {},
   "outputs": [
    {
     "data": {
      "text/plain": [
       "<matplotlib.axes._subplots.AxesSubplot at 0x2245ab62a00>"
      ]
     },
     "execution_count": 23,
     "metadata": {},
     "output_type": "execute_result"
    },
    {
     "data": {
      "image/png": "[encoded data removed]",
      "text/plain": [
       "<Figure size 432x288 with 1 Axes>"
      ]
     },
     "metadata": {
      "needs_background": "light"
     },
     "output_type": "display_data"
    }
   ],
   "source": [
    "dfmc.groupby('medium')['transactions'].sum().plot.bar()"
   ]
  },
  {
   "cell_type": "markdown",
   "metadata": {},
   "source": [
    "- when we look at the transactions from different sources we can see that cpm and cpc are currently low, these can provide us with a lot of opportunity for incrimental bookings.\n",
    "- while the affiliate and referral have low bookings as well the bounce rate is more than 50% for those sources. By taking measure to improve the bounce rate we could see a growth in sales from these sources as well."
   ]
  }
 ],
 "metadata": {
  "kernelspec": {
   "display_name": "Python 3",
   "language": "python",
   "name": "python3"
  },
  "language_info": {
   "codemirror_mode": {
    "name": "ipython",
    "version": 3
   },
   "file_extension": ".py",
   "mimetype": "text/x-python",
   "name": "python",
   "nbconvert_exporter": "python",
   "pygments_lexer": "ipython3",
   "version": "3.8.3"
  }
 },
 "nbformat": 4,
 "nbformat_minor": 4
}
